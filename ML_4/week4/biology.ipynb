{
 "cells": [
  {
   "cell_type": "code",
   "execution_count": 1,
   "metadata": {},
   "outputs": [],
   "source": [
    "from __future__ import division\n",
    "\n",
    "import numpy as np\n",
    "import pandas as pd\n",
    "\n",
    "from sklearn.model_selection import train_test_split\n",
    "from sklearn.linear_model import LinearRegression\n",
    "from sklearn.ensemble import RandomForestRegressor\n",
    "\n",
    "from scipy import stats\n",
    "from statsmodels.stats.weightstats import CompareMeans, DescrStatsW\n",
    "\n",
    "from IPython.core.interactiveshell import InteractiveShell\n",
    "InteractiveShell.ast_node_interactivity = \"all\""
   ]
  },
  {
   "cell_type": "code",
   "execution_count": 2,
   "metadata": {},
   "outputs": [
    {
     "name": "stdout",
     "output_type": "stream",
     "text": [
      "Populating the interactive namespace from numpy and matplotlib\n"
     ]
    }
   ],
   "source": [
    "%pylab inline"
   ]
  },
  {
   "cell_type": "code",
   "execution_count": 3,
   "metadata": {},
   "outputs": [
    {
     "data": {
      "text/html": [
       "<div>\n",
       "<style scoped>\n",
       "    .dataframe tbody tr th:only-of-type {\n",
       "        vertical-align: middle;\n",
       "    }\n",
       "\n",
       "    .dataframe tbody tr th {\n",
       "        vertical-align: top;\n",
       "    }\n",
       "\n",
       "    .dataframe thead th {\n",
       "        text-align: right;\n",
       "    }\n",
       "</style>\n",
       "<table border=\"1\" class=\"dataframe\">\n",
       "  <thead>\n",
       "    <tr style=\"text-align: right;\">\n",
       "      <th></th>\n",
       "      <th>LOC643837</th>\n",
       "      <th>LOC100130417</th>\n",
       "      <th>SAMD11</th>\n",
       "      <th>NOC2L</th>\n",
       "      <th>KLHL17</th>\n",
       "      <th>PLEKHN1</th>\n",
       "      <th>C1orf170</th>\n",
       "      <th>HES4</th>\n",
       "      <th>ISG15</th>\n",
       "      <th>AGRN</th>\n",
       "      <th>...</th>\n",
       "      <th>CLIC2</th>\n",
       "      <th>RPS4Y1</th>\n",
       "      <th>ZFY</th>\n",
       "      <th>PRKY</th>\n",
       "      <th>USP9Y</th>\n",
       "      <th>DDX3Y</th>\n",
       "      <th>CD24</th>\n",
       "      <th>CYorf15B</th>\n",
       "      <th>KDM5D</th>\n",
       "      <th>EIF1AY</th>\n",
       "    </tr>\n",
       "  </thead>\n",
       "  <tbody>\n",
       "    <tr>\n",
       "      <th>count</th>\n",
       "      <td>72.000000</td>\n",
       "      <td>72.000000</td>\n",
       "      <td>72.000000</td>\n",
       "      <td>72.000000</td>\n",
       "      <td>72.000000</td>\n",
       "      <td>72.000000</td>\n",
       "      <td>72.000000</td>\n",
       "      <td>72.000000</td>\n",
       "      <td>72.000000</td>\n",
       "      <td>72.000000</td>\n",
       "      <td>...</td>\n",
       "      <td>72.000000</td>\n",
       "      <td>72.000000</td>\n",
       "      <td>72.000000</td>\n",
       "      <td>72.000000</td>\n",
       "      <td>72.000000</td>\n",
       "      <td>72.000000</td>\n",
       "      <td>72.000000</td>\n",
       "      <td>72.000000</td>\n",
       "      <td>72.000000</td>\n",
       "      <td>72.000000</td>\n",
       "    </tr>\n",
       "    <tr>\n",
       "      <th>mean</th>\n",
       "      <td>2.463922</td>\n",
       "      <td>7.100958</td>\n",
       "      <td>19.056151</td>\n",
       "      <td>15.618688</td>\n",
       "      <td>23.537120</td>\n",
       "      <td>11.303466</td>\n",
       "      <td>8.921396</td>\n",
       "      <td>63.270147</td>\n",
       "      <td>53.906324</td>\n",
       "      <td>70.678573</td>\n",
       "      <td>...</td>\n",
       "      <td>5.563444</td>\n",
       "      <td>2.192029</td>\n",
       "      <td>1.967424</td>\n",
       "      <td>2.181360</td>\n",
       "      <td>1.729308</td>\n",
       "      <td>1.980733</td>\n",
       "      <td>16.834075</td>\n",
       "      <td>1.825827</td>\n",
       "      <td>2.287380</td>\n",
       "      <td>1.756827</td>\n",
       "    </tr>\n",
       "    <tr>\n",
       "      <th>std</th>\n",
       "      <td>1.413687</td>\n",
       "      <td>4.164703</td>\n",
       "      <td>9.287753</td>\n",
       "      <td>4.664146</td>\n",
       "      <td>4.475294</td>\n",
       "      <td>4.055122</td>\n",
       "      <td>3.270713</td>\n",
       "      <td>13.792140</td>\n",
       "      <td>45.635498</td>\n",
       "      <td>21.326237</td>\n",
       "      <td>...</td>\n",
       "      <td>2.389789</td>\n",
       "      <td>2.454218</td>\n",
       "      <td>2.047129</td>\n",
       "      <td>2.542652</td>\n",
       "      <td>1.507149</td>\n",
       "      <td>2.230157</td>\n",
       "      <td>7.126802</td>\n",
       "      <td>1.902716</td>\n",
       "      <td>3.185571</td>\n",
       "      <td>1.623151</td>\n",
       "    </tr>\n",
       "    <tr>\n",
       "      <th>min</th>\n",
       "      <td>0.833898</td>\n",
       "      <td>1.231043</td>\n",
       "      <td>4.941211</td>\n",
       "      <td>6.395270</td>\n",
       "      <td>8.520713</td>\n",
       "      <td>2.066576</td>\n",
       "      <td>1.364917</td>\n",
       "      <td>42.544976</td>\n",
       "      <td>24.616767</td>\n",
       "      <td>42.631422</td>\n",
       "      <td>...</td>\n",
       "      <td>1.144240</td>\n",
       "      <td>0.853957</td>\n",
       "      <td>0.853957</td>\n",
       "      <td>0.853957</td>\n",
       "      <td>0.833898</td>\n",
       "      <td>0.833898</td>\n",
       "      <td>4.675683</td>\n",
       "      <td>0.833898</td>\n",
       "      <td>0.853957</td>\n",
       "      <td>0.833898</td>\n",
       "    </tr>\n",
       "    <tr>\n",
       "      <th>25%</th>\n",
       "      <td>1.284642</td>\n",
       "      <td>3.892403</td>\n",
       "      <td>13.423946</td>\n",
       "      <td>12.574596</td>\n",
       "      <td>21.151624</td>\n",
       "      <td>8.712898</td>\n",
       "      <td>6.213396</td>\n",
       "      <td>53.093627</td>\n",
       "      <td>34.009687</td>\n",
       "      <td>54.202100</td>\n",
       "      <td>...</td>\n",
       "      <td>3.805875</td>\n",
       "      <td>1.042783</td>\n",
       "      <td>1.011350</td>\n",
       "      <td>1.011350</td>\n",
       "      <td>1.003337</td>\n",
       "      <td>1.003337</td>\n",
       "      <td>11.186633</td>\n",
       "      <td>1.003337</td>\n",
       "      <td>1.011350</td>\n",
       "      <td>1.003337</td>\n",
       "    </tr>\n",
       "    <tr>\n",
       "      <th>50%</th>\n",
       "      <td>2.104677</td>\n",
       "      <td>6.315551</td>\n",
       "      <td>16.734855</td>\n",
       "      <td>14.586150</td>\n",
       "      <td>23.477006</td>\n",
       "      <td>11.172590</td>\n",
       "      <td>8.703397</td>\n",
       "      <td>63.230911</td>\n",
       "      <td>39.554954</td>\n",
       "      <td>65.510651</td>\n",
       "      <td>...</td>\n",
       "      <td>5.617824</td>\n",
       "      <td>1.339507</td>\n",
       "      <td>1.273861</td>\n",
       "      <td>1.298543</td>\n",
       "      <td>1.252527</td>\n",
       "      <td>1.252527</td>\n",
       "      <td>16.514389</td>\n",
       "      <td>1.252527</td>\n",
       "      <td>1.273861</td>\n",
       "      <td>1.252527</td>\n",
       "    </tr>\n",
       "    <tr>\n",
       "      <th>75%</th>\n",
       "      <td>3.345067</td>\n",
       "      <td>8.916399</td>\n",
       "      <td>21.884325</td>\n",
       "      <td>17.695678</td>\n",
       "      <td>26.471909</td>\n",
       "      <td>13.568625</td>\n",
       "      <td>11.139240</td>\n",
       "      <td>69.880705</td>\n",
       "      <td>50.295756</td>\n",
       "      <td>79.427207</td>\n",
       "      <td>...</td>\n",
       "      <td>7.100942</td>\n",
       "      <td>1.815754</td>\n",
       "      <td>1.647255</td>\n",
       "      <td>1.677971</td>\n",
       "      <td>1.625364</td>\n",
       "      <td>1.611299</td>\n",
       "      <td>21.849385</td>\n",
       "      <td>1.607345</td>\n",
       "      <td>1.647255</td>\n",
       "      <td>1.611299</td>\n",
       "    </tr>\n",
       "    <tr>\n",
       "      <th>max</th>\n",
       "      <td>7.364879</td>\n",
       "      <td>20.006038</td>\n",
       "      <td>60.584449</td>\n",
       "      <td>29.659104</td>\n",
       "      <td>34.110743</td>\n",
       "      <td>27.441093</td>\n",
       "      <td>17.121366</td>\n",
       "      <td>132.144503</td>\n",
       "      <td>327.590426</td>\n",
       "      <td>128.606260</td>\n",
       "      <td>...</td>\n",
       "      <td>11.227770</td>\n",
       "      <td>11.913855</td>\n",
       "      <td>10.883310</td>\n",
       "      <td>11.692697</td>\n",
       "      <td>10.392539</td>\n",
       "      <td>10.640754</td>\n",
       "      <td>49.295538</td>\n",
       "      <td>9.919132</td>\n",
       "      <td>17.278985</td>\n",
       "      <td>9.333904</td>\n",
       "    </tr>\n",
       "  </tbody>\n",
       "</table>\n",
       "<p>8 rows × 15748 columns</p>\n",
       "</div>"
      ],
      "text/plain": [
       "       LOC643837  LOC100130417     SAMD11      NOC2L     KLHL17    PLEKHN1  \\\n",
       "count  72.000000     72.000000  72.000000  72.000000  72.000000  72.000000   \n",
       "mean    2.463922      7.100958  19.056151  15.618688  23.537120  11.303466   \n",
       "std     1.413687      4.164703   9.287753   4.664146   4.475294   4.055122   \n",
       "min     0.833898      1.231043   4.941211   6.395270   8.520713   2.066576   \n",
       "25%     1.284642      3.892403  13.423946  12.574596  21.151624   8.712898   \n",
       "50%     2.104677      6.315551  16.734855  14.586150  23.477006  11.172590   \n",
       "75%     3.345067      8.916399  21.884325  17.695678  26.471909  13.568625   \n",
       "max     7.364879     20.006038  60.584449  29.659104  34.110743  27.441093   \n",
       "\n",
       "        C1orf170        HES4       ISG15        AGRN  ...      CLIC2  \\\n",
       "count  72.000000   72.000000   72.000000   72.000000  ...  72.000000   \n",
       "mean    8.921396   63.270147   53.906324   70.678573  ...   5.563444   \n",
       "std     3.270713   13.792140   45.635498   21.326237  ...   2.389789   \n",
       "min     1.364917   42.544976   24.616767   42.631422  ...   1.144240   \n",
       "25%     6.213396   53.093627   34.009687   54.202100  ...   3.805875   \n",
       "50%     8.703397   63.230911   39.554954   65.510651  ...   5.617824   \n",
       "75%    11.139240   69.880705   50.295756   79.427207  ...   7.100942   \n",
       "max    17.121366  132.144503  327.590426  128.606260  ...  11.227770   \n",
       "\n",
       "          RPS4Y1        ZFY       PRKY      USP9Y      DDX3Y       CD24  \\\n",
       "count  72.000000  72.000000  72.000000  72.000000  72.000000  72.000000   \n",
       "mean    2.192029   1.967424   2.181360   1.729308   1.980733  16.834075   \n",
       "std     2.454218   2.047129   2.542652   1.507149   2.230157   7.126802   \n",
       "min     0.853957   0.853957   0.853957   0.833898   0.833898   4.675683   \n",
       "25%     1.042783   1.011350   1.011350   1.003337   1.003337  11.186633   \n",
       "50%     1.339507   1.273861   1.298543   1.252527   1.252527  16.514389   \n",
       "75%     1.815754   1.647255   1.677971   1.625364   1.611299  21.849385   \n",
       "max    11.913855  10.883310  11.692697  10.392539  10.640754  49.295538   \n",
       "\n",
       "        CYorf15B      KDM5D     EIF1AY  \n",
       "count  72.000000  72.000000  72.000000  \n",
       "mean    1.825827   2.287380   1.756827  \n",
       "std     1.902716   3.185571   1.623151  \n",
       "min     0.833898   0.853957   0.833898  \n",
       "25%     1.003337   1.011350   1.003337  \n",
       "50%     1.252527   1.273861   1.252527  \n",
       "75%     1.607345   1.647255   1.611299  \n",
       "max     9.919132  17.278985   9.333904  \n",
       "\n",
       "[8 rows x 15748 columns]"
      ]
     },
     "execution_count": 3,
     "metadata": {},
     "output_type": "execute_result"
    },
    {
     "name": "stdout",
     "output_type": "stream",
     "text": [
      "<class 'pandas.core.frame.DataFrame'>\n",
      "RangeIndex: 72 entries, 0 to 71\n",
      "Columns: 15750 entries, Patient_id to EIF1AY\n",
      "dtypes: float64(15748), object(2)\n",
      "memory usage: 8.7+ MB\n"
     ]
    },
    {
     "data": {
      "text/html": [
       "<div>\n",
       "<style scoped>\n",
       "    .dataframe tbody tr th:only-of-type {\n",
       "        vertical-align: middle;\n",
       "    }\n",
       "\n",
       "    .dataframe tbody tr th {\n",
       "        vertical-align: top;\n",
       "    }\n",
       "\n",
       "    .dataframe thead th {\n",
       "        text-align: right;\n",
       "    }\n",
       "</style>\n",
       "<table border=\"1\" class=\"dataframe\">\n",
       "  <thead>\n",
       "    <tr style=\"text-align: right;\">\n",
       "      <th></th>\n",
       "      <th>Patient_id</th>\n",
       "      <th>Diagnosis</th>\n",
       "      <th>LOC643837</th>\n",
       "      <th>LOC100130417</th>\n",
       "      <th>SAMD11</th>\n",
       "      <th>NOC2L</th>\n",
       "      <th>KLHL17</th>\n",
       "      <th>PLEKHN1</th>\n",
       "      <th>C1orf170</th>\n",
       "      <th>HES4</th>\n",
       "      <th>...</th>\n",
       "      <th>CLIC2</th>\n",
       "      <th>RPS4Y1</th>\n",
       "      <th>ZFY</th>\n",
       "      <th>PRKY</th>\n",
       "      <th>USP9Y</th>\n",
       "      <th>DDX3Y</th>\n",
       "      <th>CD24</th>\n",
       "      <th>CYorf15B</th>\n",
       "      <th>KDM5D</th>\n",
       "      <th>EIF1AY</th>\n",
       "    </tr>\n",
       "  </thead>\n",
       "  <tbody>\n",
       "    <tr>\n",
       "      <th>0</th>\n",
       "      <td>STT5425_Breast_001_normal</td>\n",
       "      <td>normal</td>\n",
       "      <td>1.257614</td>\n",
       "      <td>2.408148</td>\n",
       "      <td>13.368622</td>\n",
       "      <td>9.494779</td>\n",
       "      <td>20.880435</td>\n",
       "      <td>12.722017</td>\n",
       "      <td>9.494779</td>\n",
       "      <td>54.349694</td>\n",
       "      <td>...</td>\n",
       "      <td>4.761250</td>\n",
       "      <td>1.257614</td>\n",
       "      <td>1.257614</td>\n",
       "      <td>1.257614</td>\n",
       "      <td>1.257614</td>\n",
       "      <td>1.257614</td>\n",
       "      <td>23.268694</td>\n",
       "      <td>1.257614</td>\n",
       "      <td>1.257614</td>\n",
       "      <td>1.257614</td>\n",
       "    </tr>\n",
       "    <tr>\n",
       "      <th>1</th>\n",
       "      <td>STT5427_Breast_023_normal</td>\n",
       "      <td>normal</td>\n",
       "      <td>4.567931</td>\n",
       "      <td>16.602734</td>\n",
       "      <td>42.477752</td>\n",
       "      <td>25.562376</td>\n",
       "      <td>23.221137</td>\n",
       "      <td>11.622386</td>\n",
       "      <td>14.330573</td>\n",
       "      <td>72.445474</td>\n",
       "      <td>...</td>\n",
       "      <td>6.871902</td>\n",
       "      <td>1.815112</td>\n",
       "      <td>1.815112</td>\n",
       "      <td>1.815112</td>\n",
       "      <td>1.815112</td>\n",
       "      <td>1.815112</td>\n",
       "      <td>10.427023</td>\n",
       "      <td>1.815112</td>\n",
       "      <td>1.815112</td>\n",
       "      <td>1.815112</td>\n",
       "    </tr>\n",
       "    <tr>\n",
       "      <th>2</th>\n",
       "      <td>STT5430_Breast_002_normal</td>\n",
       "      <td>normal</td>\n",
       "      <td>2.077597</td>\n",
       "      <td>3.978294</td>\n",
       "      <td>12.863214</td>\n",
       "      <td>13.728915</td>\n",
       "      <td>14.543176</td>\n",
       "      <td>14.141907</td>\n",
       "      <td>6.232790</td>\n",
       "      <td>57.011005</td>\n",
       "      <td>...</td>\n",
       "      <td>7.096343</td>\n",
       "      <td>2.077597</td>\n",
       "      <td>2.077597</td>\n",
       "      <td>2.077597</td>\n",
       "      <td>2.077597</td>\n",
       "      <td>2.077597</td>\n",
       "      <td>22.344226</td>\n",
       "      <td>2.077597</td>\n",
       "      <td>2.077597</td>\n",
       "      <td>2.077597</td>\n",
       "    </tr>\n",
       "    <tr>\n",
       "      <th>3</th>\n",
       "      <td>STT5439_Breast_003_normal</td>\n",
       "      <td>normal</td>\n",
       "      <td>2.066576</td>\n",
       "      <td>8.520713</td>\n",
       "      <td>14.466035</td>\n",
       "      <td>7.823932</td>\n",
       "      <td>8.520713</td>\n",
       "      <td>2.066576</td>\n",
       "      <td>10.870009</td>\n",
       "      <td>53.292034</td>\n",
       "      <td>...</td>\n",
       "      <td>5.200770</td>\n",
       "      <td>2.066576</td>\n",
       "      <td>2.066576</td>\n",
       "      <td>2.066576</td>\n",
       "      <td>2.066576</td>\n",
       "      <td>2.066576</td>\n",
       "      <td>49.295538</td>\n",
       "      <td>2.066576</td>\n",
       "      <td>2.066576</td>\n",
       "      <td>2.066576</td>\n",
       "    </tr>\n",
       "    <tr>\n",
       "      <th>4</th>\n",
       "      <td>STT5441_Breast_004_normal</td>\n",
       "      <td>normal</td>\n",
       "      <td>2.613616</td>\n",
       "      <td>3.434965</td>\n",
       "      <td>12.682222</td>\n",
       "      <td>10.543189</td>\n",
       "      <td>26.688686</td>\n",
       "      <td>12.484822</td>\n",
       "      <td>1.364917</td>\n",
       "      <td>67.140393</td>\n",
       "      <td>...</td>\n",
       "      <td>11.227770</td>\n",
       "      <td>1.364917</td>\n",
       "      <td>1.364917</td>\n",
       "      <td>1.364917</td>\n",
       "      <td>1.364917</td>\n",
       "      <td>1.364917</td>\n",
       "      <td>23.627911</td>\n",
       "      <td>1.364917</td>\n",
       "      <td>1.364917</td>\n",
       "      <td>1.364917</td>\n",
       "    </tr>\n",
       "  </tbody>\n",
       "</table>\n",
       "<p>5 rows × 15750 columns</p>\n",
       "</div>"
      ],
      "text/plain": [
       "                  Patient_id Diagnosis  LOC643837  LOC100130417     SAMD11  \\\n",
       "0  STT5425_Breast_001_normal    normal   1.257614      2.408148  13.368622   \n",
       "1  STT5427_Breast_023_normal    normal   4.567931     16.602734  42.477752   \n",
       "2  STT5430_Breast_002_normal    normal   2.077597      3.978294  12.863214   \n",
       "3  STT5439_Breast_003_normal    normal   2.066576      8.520713  14.466035   \n",
       "4  STT5441_Breast_004_normal    normal   2.613616      3.434965  12.682222   \n",
       "\n",
       "       NOC2L     KLHL17    PLEKHN1   C1orf170       HES4  ...      CLIC2  \\\n",
       "0   9.494779  20.880435  12.722017   9.494779  54.349694  ...   4.761250   \n",
       "1  25.562376  23.221137  11.622386  14.330573  72.445474  ...   6.871902   \n",
       "2  13.728915  14.543176  14.141907   6.232790  57.011005  ...   7.096343   \n",
       "3   7.823932   8.520713   2.066576  10.870009  53.292034  ...   5.200770   \n",
       "4  10.543189  26.688686  12.484822   1.364917  67.140393  ...  11.227770   \n",
       "\n",
       "     RPS4Y1       ZFY      PRKY     USP9Y     DDX3Y       CD24  CYorf15B  \\\n",
       "0  1.257614  1.257614  1.257614  1.257614  1.257614  23.268694  1.257614   \n",
       "1  1.815112  1.815112  1.815112  1.815112  1.815112  10.427023  1.815112   \n",
       "2  2.077597  2.077597  2.077597  2.077597  2.077597  22.344226  2.077597   \n",
       "3  2.066576  2.066576  2.066576  2.066576  2.066576  49.295538  2.066576   \n",
       "4  1.364917  1.364917  1.364917  1.364917  1.364917  23.627911  1.364917   \n",
       "\n",
       "      KDM5D    EIF1AY  \n",
       "0  1.257614  1.257614  \n",
       "1  1.815112  1.815112  \n",
       "2  2.077597  2.077597  \n",
       "3  2.066576  2.066576  \n",
       "4  1.364917  1.364917  \n",
       "\n",
       "[5 rows x 15750 columns]"
      ]
     },
     "execution_count": 3,
     "metadata": {},
     "output_type": "execute_result"
    }
   ],
   "source": [
    "dd = pd.read_csv('gene_high_throughput_sequencing.csv')\n",
    "dd.describe()\n",
    "dd.info()\n",
    "dd.head()"
   ]
  },
  {
   "cell_type": "code",
   "execution_count": 4,
   "metadata": {},
   "outputs": [
    {
     "data": {
      "text/plain": [
       "early neoplasia    25\n",
       "normal             24\n",
       "cancer             23\n",
       "Name: Diagnosis, dtype: int64"
      ]
     },
     "execution_count": 4,
     "metadata": {},
     "output_type": "execute_result"
    }
   ],
   "source": [
    "dd.Diagnosis.value_counts()"
   ]
  },
  {
   "cell_type": "code",
   "execution_count": 5,
   "metadata": {},
   "outputs": [],
   "source": [
    "dd_n = dd[(dd['Diagnosis'] == 'normal')]\n",
    "dd_e = dd[(dd['Diagnosis'] == 'early neoplasia')]\n",
    "dd_c = dd[(dd['Diagnosis'] == 'cancer')]"
   ]
  },
  {
   "cell_type": "code",
   "execution_count": 6,
   "metadata": {},
   "outputs": [
    {
     "data": {
      "text/plain": [
       "<Figure size 864x576 with 0 Axes>"
      ]
     },
     "execution_count": 6,
     "metadata": {},
     "output_type": "execute_result"
    },
    {
     "data": {
      "text/plain": [
       "<matplotlib.axes._subplots.AxesSubplot at 0xc311cc0>"
      ]
     },
     "execution_count": 6,
     "metadata": {},
     "output_type": "execute_result"
    },
    {
     "data": {
      "text/plain": [
       "((array([-1.90380091, -1.48287381, -1.22601535, -1.03156092, -0.8698858 ,\n",
       "         -0.7282709 , -0.59996024, -0.48085763, -0.36822879, -0.26009875,\n",
       "         -0.154935  , -0.05146182,  0.05146182,  0.154935  ,  0.26009875,\n",
       "          0.36822879,  0.48085763,  0.59996024,  0.7282709 ,  0.8698858 ,\n",
       "          1.03156092,  1.22601535,  1.48287381,  1.90380091]),\n",
       "  array([0.93806112, 1.00345108, 1.04538239, 1.08411336, 1.25761416,\n",
       "         1.28299536, 1.47417351, 1.80186544, 2.06657644, 2.07759652,\n",
       "         2.23457622, 2.55179993, 2.56187094, 2.61361628, 2.87176665,\n",
       "         2.97120469, 3.15389961, 3.51583385, 3.55822218, 3.69312835,\n",
       "         3.94227485, 4.56793106, 4.71782188, 7.36487926])),\n",
       " (1.4887457724508066, 2.6812772960416664, 0.9429731011787958))"
      ]
     },
     "execution_count": 6,
     "metadata": {},
     "output_type": "execute_result"
    },
    {
     "data": {
      "text/plain": [
       "<matplotlib.axes._subplots.AxesSubplot at 0xca5cc18>"
      ]
     },
     "execution_count": 6,
     "metadata": {},
     "output_type": "execute_result"
    },
    {
     "data": {
      "text/plain": [
       "((array([-1.9213301 , -1.50368257, -1.24941883, -1.0573306 , -0.897955  ,\n",
       "         -0.75865603, -0.63273432, -0.51614096, -0.40618759, -0.30094875,\n",
       "         -0.19894932, -0.09898372,  0.        ,  0.09898372,  0.19894932,\n",
       "          0.30094875,  0.40618759,  0.51614096,  0.63273432,  0.75865603,\n",
       "          0.897955  ,  1.0573306 ,  1.24941883,  1.50368257,  1.9213301 ]),\n",
       "  array([0.88537453, 0.94925221, 0.96483677, 0.9790742 , 1.06821015,\n",
       "         1.12258826, 1.24743999, 1.28519024, 1.40585796, 1.5917473 ,\n",
       "         1.6798491 , 1.93727047, 2.13175674, 2.42176631, 2.51630528,\n",
       "         2.88873144, 3.06048091, 3.15531518, 3.38633103, 3.98359271,\n",
       "         4.39191916, 4.56742531, 4.66823211, 4.730638  , 5.75316457])),\n",
       " (1.4660824568896027, 2.5108939967199992, 0.9546214465943991))"
      ]
     },
     "execution_count": 6,
     "metadata": {},
     "output_type": "execute_result"
    },
    {
     "data": {
      "image/png": "[encoded data removed]",
      "text/plain": [
       "<Figure size 864x576 with 2 Axes>"
      ]
     },
     "metadata": {
      "needs_background": "light"
     },
     "output_type": "display_data"
    }
   ],
   "source": [
    "pylab.figure(figsize=(12,8))\n",
    "pylab.subplot(2,2,1)\n",
    "stats.probplot(dd_n.LOC643837, dist=\"norm\", plot=pylab)\n",
    "pylab.subplot(2,2,2)\n",
    "stats.probplot(dd_e.LOC643837, dist=\"norm\", plot=pylab)\n",
    "pylab.show()"
   ]
  },
  {
   "cell_type": "code",
   "execution_count": 8,
   "metadata": {},
   "outputs": [],
   "source": [
    "gene_list = dd.columns.to_list()\n",
    "gene_list.remove('Patient_id')\n",
    "gene_list.remove('Diagnosis')"
   ]
  },
  {
   "cell_type": "code",
   "execution_count": 9,
   "metadata": {},
   "outputs": [
    {
     "data": {
      "text/plain": [
       "15748"
      ]
     },
     "execution_count": 9,
     "metadata": {},
     "output_type": "execute_result"
    }
   ],
   "source": [
    "len(gene_list)"
   ]
  },
  {
   "cell_type": "code",
   "execution_count": 10,
   "metadata": {},
   "outputs": [],
   "source": [
    "cnt = 0\n",
    "\n",
    "for gene in gene_list:\n",
    "    if stats.ttest_ind(dd_n[gene], dd_e[gene], equal_var = False)[1] < 0.05:\n",
    "        cnt += 1"
   ]
  },
  {
   "cell_type": "code",
   "execution_count": 11,
   "metadata": {},
   "outputs": [
    {
     "data": {
      "text/plain": [
       "1575"
      ]
     },
     "execution_count": 11,
     "metadata": {},
     "output_type": "execute_result"
    }
   ],
   "source": [
    "cnt"
   ]
  },
  {
   "cell_type": "code",
   "execution_count": 12,
   "metadata": {},
   "outputs": [],
   "source": [
    "cnt_2 = 0\n",
    "\n",
    "for gene in gene_list:\n",
    "    if stats.ttest_ind(dd_e[gene], dd_c[gene], equal_var = False)[1] < 0.05:\n",
    "        cnt_2 += 1"
   ]
  },
  {
   "cell_type": "code",
   "execution_count": 13,
   "metadata": {},
   "outputs": [
    {
     "data": {
      "text/plain": [
       "3490"
      ]
     },
     "execution_count": 13,
     "metadata": {},
     "output_type": "execute_result"
    }
   ],
   "source": [
    "cnt_2"
   ]
  },
  {
   "cell_type": "code",
   "execution_count": 14,
   "metadata": {},
   "outputs": [],
   "source": [
    "def write_answer_1(ans):\n",
    "    with open(\"task1_ans/t1_ans1.txt\", \"w\") as fout:\n",
    "        fout.write(str(ans))\n",
    "        \n",
    "def write_answer_2(ans):\n",
    "    with open(\"task1_ans/t1_ans2.txt\", \"w\") as fout:\n",
    "        fout.write(str(ans))"
   ]
  },
  {
   "cell_type": "code",
   "execution_count": 15,
   "metadata": {},
   "outputs": [],
   "source": [
    "write_answer_1(cnt)\n",
    "write_answer_2(cnt_2)"
   ]
  },
  {
   "cell_type": "code",
   "execution_count": 16,
   "metadata": {},
   "outputs": [],
   "source": [
    "import statsmodels.stats.multitest as smm"
   ]
  },
  {
   "cell_type": "code",
   "execution_count": 17,
   "metadata": {},
   "outputs": [],
   "source": [
    "def fold_change(control, test):\n",
    "    T = test.mean()\n",
    "    C = control.mean()\n",
    "    if (T > C):\n",
    "        return T / C\n",
    "    else:\n",
    "        return -C / T"
   ]
  },
  {
   "cell_type": "code",
   "execution_count": 19,
   "metadata": {},
   "outputs": [],
   "source": [
    "from statsmodels.sandbox.stats.multicomp import multipletests "
   ]
  },
  {
   "cell_type": "code",
   "execution_count": 18,
   "metadata": {},
   "outputs": [
    {
     "ename": "NameError",
     "evalue": "name 'multipletests' is not defined",
     "output_type": "error",
     "traceback": [
      "\u001b[1;31m---------------------------------------------------------------------------\u001b[0m",
      "\u001b[1;31mNameError\u001b[0m                                 Traceback (most recent call last)",
      "\u001b[1;32m<ipython-input-18-6dce34be536d>\u001b[0m in \u001b[0;36m<module>\u001b[1;34m\u001b[0m\n\u001b[1;32m----> 1\u001b[1;33m reject, p_corrected, a1, a2 = multipletests(sales_correlation.p, \n\u001b[0m\u001b[0;32m      2\u001b[0m                                             \u001b[0malpha\u001b[0m \u001b[1;33m=\u001b[0m \u001b[1;36m0.05\u001b[0m\u001b[1;33m,\u001b[0m\u001b[1;33m\u001b[0m\u001b[1;33m\u001b[0m\u001b[0m\n\u001b[0;32m      3\u001b[0m                                             method = 'holm')\n",
      "\u001b[1;31mNameError\u001b[0m: name 'multipletests' is not defined"
     ]
    }
   ],
   "source": [
    "#reject, p_corrected, a1, a2 = multipletests(sales_correlation.p, \n",
    "#                                            alpha = 0.05, \n",
    "#                                            method = 'holm')"
   ]
  },
  {
   "cell_type": "code",
   "execution_count": 23,
   "metadata": {},
   "outputs": [],
   "source": [
    "p_list1 = []\n",
    "\n",
    "for gene in gene_list:\n",
    "    p_list1.append(stats.ttest_ind(dd_n[gene], dd_e[gene], equal_var = False)[1])\n",
    "    \n",
    "reject, p_c_list1, a1, a2 = multipletests(p_list1, alpha = 0.025, method = 'holm')\n",
    "\n",
    "for i in np.arange(len(p_c_list1)):\n",
    "    if abs(fold_change(dd_n[gene_list[i]], dd_e[gene_list[i]])) <= 1.5:\n",
    "        p_c_list1[i] = 2"
   ]
  },
  {
   "cell_type": "code",
   "execution_count": 24,
   "metadata": {},
   "outputs": [],
   "source": [
    "cnt3 = 0\n",
    "\n",
    "for p_v in p_c_list1:\n",
    "    if p_v < 0.025:\n",
    "        cnt3 += 1"
   ]
  },
  {
   "cell_type": "code",
   "execution_count": 27,
   "metadata": {},
   "outputs": [],
   "source": [
    "def write_answer_3(ans):\n",
    "    with open(\"task1_ans/t1_ans3.txt\", \"w\") as fout:\n",
    "        fout.write(str(ans))\n",
    "        \n",
    "def write_answer_4(ans):\n",
    "    with open(\"task1_ans/t1_ans4.txt\", \"w\") as fout:\n",
    "        fout.write(str(ans))"
   ]
  },
  {
   "cell_type": "code",
   "execution_count": 28,
   "metadata": {},
   "outputs": [],
   "source": [
    "write_answer_3(cnt3)"
   ]
  },
  {
   "cell_type": "code",
   "execution_count": 29,
   "metadata": {},
   "outputs": [],
   "source": [
    "p_list2 = []\n",
    "\n",
    "for gene in gene_list:\n",
    "    p_list2.append(stats.ttest_ind(dd_e[gene], dd_c[gene], equal_var = False)[1])\n",
    "    \n",
    "reject, p_c_list2, a1, a2 = multipletests(p_list2, alpha = 0.025, method = 'holm')\n",
    "\n",
    "for i in np.arange(len(p_c_list2)):\n",
    "    if abs(fold_change(dd_e[gene_list[i]], dd_c[gene_list[i]])) <= 1.5:\n",
    "        p_c_list2[i] = 2\n",
    "        \n",
    "cnt4 = 0\n",
    "\n",
    "for p_v in p_c_list2:\n",
    "    if p_v < 0.025:\n",
    "        cnt4 += 1\n",
    "        \n",
    "write_answer_4(cnt4)"
   ]
  },
  {
   "cell_type": "code",
   "execution_count": 30,
   "metadata": {},
   "outputs": [],
   "source": [
    "def write_answer_5(ans):\n",
    "    with open(\"task1_ans/t1_ans5.txt\", \"w\") as fout:\n",
    "        fout.write(str(ans))\n",
    "        \n",
    "def write_answer_6(ans):\n",
    "    with open(\"task1_ans/t1_ans6.txt\", \"w\") as fout:\n",
    "        fout.write(str(ans))"
   ]
  },
  {
   "cell_type": "code",
   "execution_count": 31,
   "metadata": {},
   "outputs": [],
   "source": [
    "reject, p_c2_list1, a1, a2 = multipletests(p_list1, alpha = 0.025, method = 'fdr_bh')\n",
    "\n",
    "for i in np.arange(len(p_c2_list1)):\n",
    "    if abs(fold_change(dd_n[gene_list[i]], dd_e[gene_list[i]])) <= 1.5:\n",
    "        p_c2_list1[i] = 2\n",
    "        \n",
    "cnt5 = 0\n",
    "\n",
    "for p_v in p_c2_list1:\n",
    "    if p_v < 0.025:\n",
    "        cnt5 += 1"
   ]
  },
  {
   "cell_type": "code",
   "execution_count": 32,
   "metadata": {},
   "outputs": [],
   "source": [
    "write_answer_5(cnt5)"
   ]
  },
  {
   "cell_type": "code",
   "execution_count": 33,
   "metadata": {},
   "outputs": [],
   "source": [
    "reject, p_c2_list2, a1, a2 = multipletests(p_list2, alpha = 0.025, method = 'fdr_bh')\n",
    "\n",
    "for i in np.arange(len(p_c2_list2)):\n",
    "    if abs(fold_change(dd_e[gene_list[i]], dd_c[gene_list[i]])) <= 1.5:\n",
    "        p_c2_list2[i] = 2\n",
    "        \n",
    "cnt6 = 0\n",
    "\n",
    "for p_v in p_c2_list2:\n",
    "    if p_v < 0.025:\n",
    "        cnt6 += 1\n",
    "        \n",
    "write_answer_6(cnt6)"
   ]
  },
  {
   "cell_type": "code",
   "execution_count": null,
   "metadata": {},
   "outputs": [],
   "source": []
  }
 ],
 "metadata": {
  "kernelspec": {
   "display_name": "Python 3",
   "language": "python",
   "name": "python3"
  },
  "language_info": {
   "codemirror_mode": {
    "name": "ipython",
    "version": 3
   },
   "file_extension": ".py",
   "mimetype": "text/x-python",
   "name": "python",
   "nbconvert_exporter": "python",
   "pygments_lexer": "ipython3",
   "version": "3.7.3"
  }
 },
 "nbformat": 4,
 "nbformat_minor": 2
}
