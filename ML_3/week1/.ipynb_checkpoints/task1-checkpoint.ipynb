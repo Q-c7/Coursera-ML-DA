{
 "cells": [
  {
   "cell_type": "code",
   "execution_count": 1,
   "metadata": {},
   "outputs": [],
   "source": [
    "import numpy as np\n",
    "import pandas as pd\n",
    "from sklearn.cluster import MeanShift"
   ]
  },
  {
   "cell_type": "code",
   "execution_count": 2,
   "metadata": {},
   "outputs": [
    {
     "name": "stdout",
     "output_type": "stream",
     "text": [
      "<class 'pandas.core.frame.DataFrame'>\n",
      "RangeIndex: 1021967 entries, 0 to 1021966\n",
      "Data columns (total 6 columns):\n",
      "id                  1021967 non-null object\n",
      "user_id             1021966 non-null float64\n",
      "venue_id            1021966 non-null float64\n",
      "latitude            396634 non-null float64\n",
      "longitude           396634 non-null float64\n",
      "created_at          1021966 non-null object\n",
      "dtypes: float64(4), object(2)\n",
      "memory usage: 46.8+ MB\n",
      "None\n"
     ]
    },
    {
     "data": {
      "text/html": [
       "<div>\n",
       "<style scoped>\n",
       "    .dataframe tbody tr th:only-of-type {\n",
       "        vertical-align: middle;\n",
       "    }\n",
       "\n",
       "    .dataframe tbody tr th {\n",
       "        vertical-align: top;\n",
       "    }\n",
       "\n",
       "    .dataframe thead th {\n",
       "        text-align: right;\n",
       "    }\n",
       "</style>\n",
       "<table border=\"1\" class=\"dataframe\">\n",
       "  <thead>\n",
       "    <tr style=\"text-align: right;\">\n",
       "      <th></th>\n",
       "      <th>id</th>\n",
       "      <th>user_id</th>\n",
       "      <th>venue_id</th>\n",
       "      <th>latitude</th>\n",
       "      <th>longitude</th>\n",
       "      <th>created_at</th>\n",
       "    </tr>\n",
       "  </thead>\n",
       "  <tbody>\n",
       "    <tr>\n",
       "      <th>0</th>\n",
       "      <td>984301</td>\n",
       "      <td>2041916.0</td>\n",
       "      <td>5222.0</td>\n",
       "      <td>NaN</td>\n",
       "      <td>NaN</td>\n",
       "      <td>2012-04-21 17:39:01</td>\n",
       "    </tr>\n",
       "    <tr>\n",
       "      <th>1</th>\n",
       "      <td>984222</td>\n",
       "      <td>15824.0</td>\n",
       "      <td>5222.0</td>\n",
       "      <td>38.895112</td>\n",
       "      <td>-77.036366</td>\n",
       "      <td>2012-04-21 17:43:47</td>\n",
       "    </tr>\n",
       "    <tr>\n",
       "      <th>2</th>\n",
       "      <td>984315</td>\n",
       "      <td>1764391.0</td>\n",
       "      <td>5222.0</td>\n",
       "      <td>NaN</td>\n",
       "      <td>NaN</td>\n",
       "      <td>2012-04-21 17:37:18</td>\n",
       "    </tr>\n",
       "    <tr>\n",
       "      <th>3</th>\n",
       "      <td>984234</td>\n",
       "      <td>44652.0</td>\n",
       "      <td>5222.0</td>\n",
       "      <td>33.800745</td>\n",
       "      <td>-84.410520</td>\n",
       "      <td>2012-04-21 17:43:43</td>\n",
       "    </tr>\n",
       "    <tr>\n",
       "      <th>4</th>\n",
       "      <td>984249</td>\n",
       "      <td>2146840.0</td>\n",
       "      <td>5222.0</td>\n",
       "      <td>NaN</td>\n",
       "      <td>NaN</td>\n",
       "      <td>2012-04-21 17:42:58</td>\n",
       "    </tr>\n",
       "  </tbody>\n",
       "</table>\n",
       "</div>"
      ],
      "text/plain": [
       "    id       user_id   venue_id   latitude        longitude       \\\n",
       "0  984301   2041916.0     5222.0             NaN             NaN   \n",
       "1  984222     15824.0     5222.0       38.895112      -77.036366   \n",
       "2  984315   1764391.0     5222.0             NaN             NaN   \n",
       "3  984234     44652.0     5222.0       33.800745      -84.410520   \n",
       "4  984249   2146840.0     5222.0             NaN             NaN   \n",
       "\n",
       "      created_at        \n",
       "0  2012-04-21 17:39:01  \n",
       "1  2012-04-21 17:43:47  \n",
       "2  2012-04-21 17:37:18  \n",
       "3  2012-04-21 17:43:43  \n",
       "4  2012-04-21 17:42:58  "
      ]
     },
     "execution_count": 2,
     "metadata": {},
     "output_type": "execute_result"
    }
   ],
   "source": [
    "checkins = pd.read_csv('checkins.dat', sep='|', skipinitialspace=True, skiprows=[1], low_memory=False)\n",
    "print(checkins.info())\n",
    "checkins.head()"
   ]
  },
  {
   "cell_type": "code",
   "execution_count": 5,
   "metadata": {},
   "outputs": [],
   "source": [
    "checkins.columns = checkins.columns.str.strip()"
   ]
  },
  {
   "cell_type": "code",
   "execution_count": 10,
   "metadata": {},
   "outputs": [
    {
     "name": "stdout",
     "output_type": "stream",
     "text": [
      "<class 'pandas.core.frame.DataFrame'>\n",
      "Int64Index: 396634 entries, 1 to 1021964\n",
      "Data columns (total 6 columns):\n",
      "id            396634 non-null object\n",
      "user_id       396634 non-null float64\n",
      "venue_id      396634 non-null float64\n",
      "latitude      396634 non-null float64\n",
      "longitude     396634 non-null float64\n",
      "created_at    396634 non-null object\n",
      "dtypes: float64(4), object(2)\n",
      "memory usage: 21.2+ MB\n",
      "None\n"
     ]
    }
   ],
   "source": [
    "checkins = checkins.dropna()\n",
    "print(checkins.info())"
   ]
  },
  {
   "cell_type": "code",
   "execution_count": 11,
   "metadata": {},
   "outputs": [
    {
     "name": "stdout",
     "output_type": "stream",
     "text": [
      "<class 'pandas.core.frame.DataFrame'>\n",
      "Int64Index: 100000 entries, 1 to 233798\n",
      "Data columns (total 6 columns):\n",
      "id            100000 non-null object\n",
      "user_id       100000 non-null float64\n",
      "venue_id      100000 non-null float64\n",
      "latitude      100000 non-null float64\n",
      "longitude     100000 non-null float64\n",
      "created_at    100000 non-null object\n",
      "dtypes: float64(4), object(2)\n",
      "memory usage: 5.3+ MB\n",
      "None\n"
     ]
    }
   ],
   "source": [
    "checkins = checkins.head(n = 100000)\n",
    "print(checkins.info())"
   ]
  },
  {
   "cell_type": "code",
   "execution_count": 14,
   "metadata": {},
   "outputs": [
    {
     "name": "stdout",
     "output_type": "stream",
     "text": [
      "<class 'pandas.core.frame.DataFrame'>\n",
      "RangeIndex: 6 entries, 0 to 5\n",
      "Data columns (total 3 columns):\n",
      "latitude     6 non-null float64\n",
      "longitude    6 non-null float64\n",
      "city         6 non-null object\n",
      "dtypes: float64(2), object(1)\n",
      "memory usage: 224.0+ bytes\n",
      "None\n"
     ]
    }
   ],
   "source": [
    "offices = pd.read_csv('t1_offices.txt', skipinitialspace=True)\n",
    "print(offices.info())"
   ]
  },
  {
   "cell_type": "code",
   "execution_count": 15,
   "metadata": {},
   "outputs": [],
   "source": [
    "offices_for_dist = offices.loc[:, ['latitude', 'longitude']]\n",
    "checkins_for_dist = checkins.loc[:, ['latitude', 'longitude']]"
   ]
  },
  {
   "cell_type": "code",
   "execution_count": 18,
   "metadata": {},
   "outputs": [
    {
     "data": {
      "text/html": [
       "<div>\n",
       "<style scoped>\n",
       "    .dataframe tbody tr th:only-of-type {\n",
       "        vertical-align: middle;\n",
       "    }\n",
       "\n",
       "    .dataframe tbody tr th {\n",
       "        vertical-align: top;\n",
       "    }\n",
       "\n",
       "    .dataframe thead th {\n",
       "        text-align: right;\n",
       "    }\n",
       "</style>\n",
       "<table border=\"1\" class=\"dataframe\">\n",
       "  <thead>\n",
       "    <tr style=\"text-align: right;\">\n",
       "      <th></th>\n",
       "      <th>latitude</th>\n",
       "      <th>longitude</th>\n",
       "    </tr>\n",
       "  </thead>\n",
       "  <tbody>\n",
       "    <tr>\n",
       "      <th>1</th>\n",
       "      <td>38.895112</td>\n",
       "      <td>-77.036366</td>\n",
       "    </tr>\n",
       "    <tr>\n",
       "      <th>3</th>\n",
       "      <td>33.800745</td>\n",
       "      <td>-84.410520</td>\n",
       "    </tr>\n",
       "    <tr>\n",
       "      <th>7</th>\n",
       "      <td>45.523452</td>\n",
       "      <td>-122.676207</td>\n",
       "    </tr>\n",
       "    <tr>\n",
       "      <th>9</th>\n",
       "      <td>40.764462</td>\n",
       "      <td>-111.904565</td>\n",
       "    </tr>\n",
       "    <tr>\n",
       "      <th>10</th>\n",
       "      <td>33.448377</td>\n",
       "      <td>-112.074037</td>\n",
       "    </tr>\n",
       "    <tr>\n",
       "      <th>11</th>\n",
       "      <td>32.221743</td>\n",
       "      <td>-110.926479</td>\n",
       "    </tr>\n",
       "    <tr>\n",
       "      <th>12</th>\n",
       "      <td>40.650000</td>\n",
       "      <td>-73.950000</td>\n",
       "    </tr>\n",
       "    <tr>\n",
       "      <th>13</th>\n",
       "      <td>33.448377</td>\n",
       "      <td>-112.074037</td>\n",
       "    </tr>\n",
       "    <tr>\n",
       "      <th>15</th>\n",
       "      <td>33.414768</td>\n",
       "      <td>-111.909309</td>\n",
       "    </tr>\n",
       "    <tr>\n",
       "      <th>18</th>\n",
       "      <td>42.358431</td>\n",
       "      <td>-71.059773</td>\n",
       "    </tr>\n",
       "    <tr>\n",
       "      <th>19</th>\n",
       "      <td>33.448377</td>\n",
       "      <td>-112.074037</td>\n",
       "    </tr>\n",
       "    <tr>\n",
       "      <th>20</th>\n",
       "      <td>33.414768</td>\n",
       "      <td>-111.909309</td>\n",
       "    </tr>\n",
       "    <tr>\n",
       "      <th>25</th>\n",
       "      <td>33.448377</td>\n",
       "      <td>-112.074037</td>\n",
       "    </tr>\n",
       "    <tr>\n",
       "      <th>26</th>\n",
       "      <td>33.248664</td>\n",
       "      <td>-111.634299</td>\n",
       "    </tr>\n",
       "    <tr>\n",
       "      <th>27</th>\n",
       "      <td>32.840678</td>\n",
       "      <td>-117.258794</td>\n",
       "    </tr>\n",
       "    <tr>\n",
       "      <th>29</th>\n",
       "      <td>34.052234</td>\n",
       "      <td>-118.243685</td>\n",
       "    </tr>\n",
       "    <tr>\n",
       "      <th>34</th>\n",
       "      <td>33.414768</td>\n",
       "      <td>-111.909309</td>\n",
       "    </tr>\n",
       "    <tr>\n",
       "      <th>35</th>\n",
       "      <td>33.448377</td>\n",
       "      <td>-112.074037</td>\n",
       "    </tr>\n",
       "    <tr>\n",
       "      <th>38</th>\n",
       "      <td>34.483901</td>\n",
       "      <td>-114.322455</td>\n",
       "    </tr>\n",
       "    <tr>\n",
       "      <th>40</th>\n",
       "      <td>34.048928</td>\n",
       "      <td>-111.093731</td>\n",
       "    </tr>\n",
       "    <tr>\n",
       "      <th>41</th>\n",
       "      <td>32.715329</td>\n",
       "      <td>-117.157255</td>\n",
       "    </tr>\n",
       "    <tr>\n",
       "      <th>42</th>\n",
       "      <td>33.448377</td>\n",
       "      <td>-112.074037</td>\n",
       "    </tr>\n",
       "    <tr>\n",
       "      <th>46</th>\n",
       "      <td>38.895112</td>\n",
       "      <td>-77.036366</td>\n",
       "    </tr>\n",
       "    <tr>\n",
       "      <th>47</th>\n",
       "      <td>33.745851</td>\n",
       "      <td>-117.826166</td>\n",
       "    </tr>\n",
       "    <tr>\n",
       "      <th>49</th>\n",
       "      <td>34.096111</td>\n",
       "      <td>-118.105833</td>\n",
       "    </tr>\n",
       "    <tr>\n",
       "      <th>50</th>\n",
       "      <td>34.052234</td>\n",
       "      <td>-118.243685</td>\n",
       "    </tr>\n",
       "    <tr>\n",
       "      <th>52</th>\n",
       "      <td>37.629349</td>\n",
       "      <td>-122.400087</td>\n",
       "    </tr>\n",
       "    <tr>\n",
       "      <th>53</th>\n",
       "      <td>4.598056</td>\n",
       "      <td>-74.075833</td>\n",
       "    </tr>\n",
       "    <tr>\n",
       "      <th>54</th>\n",
       "      <td>33.804167</td>\n",
       "      <td>-118.158056</td>\n",
       "    </tr>\n",
       "    <tr>\n",
       "      <th>55</th>\n",
       "      <td>40.735657</td>\n",
       "      <td>-74.172367</td>\n",
       "    </tr>\n",
       "    <tr>\n",
       "      <th>...</th>\n",
       "      <td>...</td>\n",
       "      <td>...</td>\n",
       "    </tr>\n",
       "    <tr>\n",
       "      <th>233728</th>\n",
       "      <td>32.678109</td>\n",
       "      <td>-117.099197</td>\n",
       "    </tr>\n",
       "    <tr>\n",
       "      <th>233730</th>\n",
       "      <td>34.019454</td>\n",
       "      <td>-118.491191</td>\n",
       "    </tr>\n",
       "    <tr>\n",
       "      <th>233731</th>\n",
       "      <td>37.339386</td>\n",
       "      <td>-121.894955</td>\n",
       "    </tr>\n",
       "    <tr>\n",
       "      <th>233732</th>\n",
       "      <td>40.650000</td>\n",
       "      <td>-73.950000</td>\n",
       "    </tr>\n",
       "    <tr>\n",
       "      <th>233735</th>\n",
       "      <td>43.009703</td>\n",
       "      <td>-85.520024</td>\n",
       "    </tr>\n",
       "    <tr>\n",
       "      <th>233736</th>\n",
       "      <td>34.746481</td>\n",
       "      <td>-92.289595</td>\n",
       "    </tr>\n",
       "    <tr>\n",
       "      <th>233737</th>\n",
       "      <td>41.763711</td>\n",
       "      <td>-72.685093</td>\n",
       "    </tr>\n",
       "    <tr>\n",
       "      <th>233738</th>\n",
       "      <td>44.310000</td>\n",
       "      <td>-96.790000</td>\n",
       "    </tr>\n",
       "    <tr>\n",
       "      <th>233739</th>\n",
       "      <td>35.221997</td>\n",
       "      <td>-101.831297</td>\n",
       "    </tr>\n",
       "    <tr>\n",
       "      <th>233741</th>\n",
       "      <td>40.740389</td>\n",
       "      <td>-73.983385</td>\n",
       "    </tr>\n",
       "    <tr>\n",
       "      <th>233742</th>\n",
       "      <td>33.641132</td>\n",
       "      <td>-117.918669</td>\n",
       "    </tr>\n",
       "    <tr>\n",
       "      <th>233743</th>\n",
       "      <td>40.715972</td>\n",
       "      <td>-74.001437</td>\n",
       "    </tr>\n",
       "    <tr>\n",
       "      <th>233744</th>\n",
       "      <td>41.033986</td>\n",
       "      <td>-73.762910</td>\n",
       "    </tr>\n",
       "    <tr>\n",
       "      <th>233746</th>\n",
       "      <td>27.937801</td>\n",
       "      <td>-82.285925</td>\n",
       "    </tr>\n",
       "    <tr>\n",
       "      <th>233749</th>\n",
       "      <td>36.087708</td>\n",
       "      <td>-86.648397</td>\n",
       "    </tr>\n",
       "    <tr>\n",
       "      <th>233751</th>\n",
       "      <td>26.203407</td>\n",
       "      <td>-98.230012</td>\n",
       "    </tr>\n",
       "    <tr>\n",
       "      <th>233753</th>\n",
       "      <td>40.740389</td>\n",
       "      <td>-73.983385</td>\n",
       "    </tr>\n",
       "    <tr>\n",
       "      <th>233755</th>\n",
       "      <td>40.768433</td>\n",
       "      <td>-73.525125</td>\n",
       "    </tr>\n",
       "    <tr>\n",
       "      <th>233758</th>\n",
       "      <td>42.866680</td>\n",
       "      <td>-88.333427</td>\n",
       "    </tr>\n",
       "    <tr>\n",
       "      <th>233759</th>\n",
       "      <td>40.704824</td>\n",
       "      <td>-73.650130</td>\n",
       "    </tr>\n",
       "    <tr>\n",
       "      <th>233761</th>\n",
       "      <td>43.652500</td>\n",
       "      <td>-79.381667</td>\n",
       "    </tr>\n",
       "    <tr>\n",
       "      <th>233765</th>\n",
       "      <td>42.372640</td>\n",
       "      <td>-71.109653</td>\n",
       "    </tr>\n",
       "    <tr>\n",
       "      <th>233769</th>\n",
       "      <td>35.994033</td>\n",
       "      <td>-78.898619</td>\n",
       "    </tr>\n",
       "    <tr>\n",
       "      <th>233780</th>\n",
       "      <td>29.762884</td>\n",
       "      <td>-95.383061</td>\n",
       "    </tr>\n",
       "    <tr>\n",
       "      <th>233787</th>\n",
       "      <td>41.878114</td>\n",
       "      <td>-87.629798</td>\n",
       "    </tr>\n",
       "    <tr>\n",
       "      <th>233788</th>\n",
       "      <td>33.575000</td>\n",
       "      <td>-117.725556</td>\n",
       "    </tr>\n",
       "    <tr>\n",
       "      <th>233789</th>\n",
       "      <td>37.629349</td>\n",
       "      <td>-122.400087</td>\n",
       "    </tr>\n",
       "    <tr>\n",
       "      <th>233793</th>\n",
       "      <td>29.762884</td>\n",
       "      <td>-95.383061</td>\n",
       "    </tr>\n",
       "    <tr>\n",
       "      <th>233797</th>\n",
       "      <td>32.802955</td>\n",
       "      <td>-96.769923</td>\n",
       "    </tr>\n",
       "    <tr>\n",
       "      <th>233798</th>\n",
       "      <td>37.774929</td>\n",
       "      <td>-122.419415</td>\n",
       "    </tr>\n",
       "  </tbody>\n",
       "</table>\n",
       "<p>100000 rows × 2 columns</p>\n",
       "</div>"
      ],
      "text/plain": [
       "         latitude   longitude\n",
       "1       38.895112  -77.036366\n",
       "3       33.800745  -84.410520\n",
       "7       45.523452 -122.676207\n",
       "9       40.764462 -111.904565\n",
       "10      33.448377 -112.074037\n",
       "11      32.221743 -110.926479\n",
       "12      40.650000  -73.950000\n",
       "13      33.448377 -112.074037\n",
       "15      33.414768 -111.909309\n",
       "18      42.358431  -71.059773\n",
       "19      33.448377 -112.074037\n",
       "20      33.414768 -111.909309\n",
       "25      33.448377 -112.074037\n",
       "26      33.248664 -111.634299\n",
       "27      32.840678 -117.258794\n",
       "29      34.052234 -118.243685\n",
       "34      33.414768 -111.909309\n",
       "35      33.448377 -112.074037\n",
       "38      34.483901 -114.322455\n",
       "40      34.048928 -111.093731\n",
       "41      32.715329 -117.157255\n",
       "42      33.448377 -112.074037\n",
       "46      38.895112  -77.036366\n",
       "47      33.745851 -117.826166\n",
       "49      34.096111 -118.105833\n",
       "50      34.052234 -118.243685\n",
       "52      37.629349 -122.400087\n",
       "53       4.598056  -74.075833\n",
       "54      33.804167 -118.158056\n",
       "55      40.735657  -74.172367\n",
       "...           ...         ...\n",
       "233728  32.678109 -117.099197\n",
       "233730  34.019454 -118.491191\n",
       "233731  37.339386 -121.894955\n",
       "233732  40.650000  -73.950000\n",
       "233735  43.009703  -85.520024\n",
       "233736  34.746481  -92.289595\n",
       "233737  41.763711  -72.685093\n",
       "233738  44.310000  -96.790000\n",
       "233739  35.221997 -101.831297\n",
       "233741  40.740389  -73.983385\n",
       "233742  33.641132 -117.918669\n",
       "233743  40.715972  -74.001437\n",
       "233744  41.033986  -73.762910\n",
       "233746  27.937801  -82.285925\n",
       "233749  36.087708  -86.648397\n",
       "233751  26.203407  -98.230012\n",
       "233753  40.740389  -73.983385\n",
       "233755  40.768433  -73.525125\n",
       "233758  42.866680  -88.333427\n",
       "233759  40.704824  -73.650130\n",
       "233761  43.652500  -79.381667\n",
       "233765  42.372640  -71.109653\n",
       "233769  35.994033  -78.898619\n",
       "233780  29.762884  -95.383061\n",
       "233787  41.878114  -87.629798\n",
       "233788  33.575000 -117.725556\n",
       "233789  37.629349 -122.400087\n",
       "233793  29.762884  -95.383061\n",
       "233797  32.802955  -96.769923\n",
       "233798  37.774929 -122.419415\n",
       "\n",
       "[100000 rows x 2 columns]"
      ]
     },
     "execution_count": 18,
     "metadata": {},
     "output_type": "execute_result"
    }
   ],
   "source": [
    "checkins_for_dist"
   ]
  },
  {
   "cell_type": "code",
   "execution_count": 20,
   "metadata": {},
   "outputs": [],
   "source": [
    "X = checkins_for_dist.to_numpy()"
   ]
  },
  {
   "cell_type": "code",
   "execution_count": 21,
   "metadata": {},
   "outputs": [
    {
     "data": {
      "text/plain": [
       "array([[  38.8951118,  -77.0363658],\n",
       "       [  33.800745 ,  -84.41052  ],\n",
       "       [  45.5234515, -122.6762071],\n",
       "       ...,\n",
       "       [  29.7628844,  -95.3830615],\n",
       "       [  32.802955 ,  -96.769923 ],\n",
       "       [  37.7749295, -122.4194155]])"
      ]
     },
     "execution_count": 21,
     "metadata": {},
     "output_type": "execute_result"
    }
   ],
   "source": [
    "X"
   ]
  },
  {
   "cell_type": "code",
   "execution_count": 22,
   "metadata": {},
   "outputs": [
    {
     "data": {
      "text/plain": [
       "MeanShift(bandwidth=0.1, bin_seeding=False, cluster_all=True, min_bin_freq=1,\n",
       "     n_jobs=None, seeds=None)"
      ]
     },
     "execution_count": 22,
     "metadata": {},
     "output_type": "execute_result"
    }
   ],
   "source": [
    "cls = MeanShift(bandwidth = 0.1)\n",
    "cls.fit(X)"
   ]
  },
  {
   "cell_type": "code",
   "execution_count": 27,
   "metadata": {},
   "outputs": [
    {
     "data": {
      "text/plain": [
       "(3231, 2)"
      ]
     },
     "execution_count": 27,
     "metadata": {},
     "output_type": "execute_result"
    }
   ],
   "source": [
    "cls.cluster_centers_.shape"
   ]
  },
  {
   "cell_type": "code",
   "execution_count": 30,
   "metadata": {},
   "outputs": [],
   "source": [
    "answers = cls.labels_"
   ]
  },
  {
   "cell_type": "code",
   "execution_count": 33,
   "metadata": {},
   "outputs": [],
   "source": [
    "len_label = cls.cluster_centers_.shape[0]\n",
    "nums_label = np.zeros(len_label)"
   ]
  },
  {
   "cell_type": "code",
   "execution_count": 35,
   "metadata": {},
   "outputs": [],
   "source": [
    " for i in np.arange(len(answers)): #100000\n",
    "    nums_label[answers[i]] += 1 "
   ]
  },
  {
   "cell_type": "code",
   "execution_count": 39,
   "metadata": {},
   "outputs": [],
   "source": [
    "rasstrel = []\n",
    "\n",
    "for i in np.arange(len(nums_label)):\n",
    "    if nums_label[answers[i]] < 15:\n",
    "        rasstrel.append(i)"
   ]
  },
  {
   "cell_type": "code",
   "execution_count": 41,
   "metadata": {},
   "outputs": [
    {
     "data": {
      "text/plain": [
       "(3231, 2)"
      ]
     },
     "execution_count": 41,
     "metadata": {},
     "output_type": "execute_result"
    }
   ],
   "source": [
    "coordinates = cls.cluster_centers_\n",
    "\n",
    "coordinates.shape"
   ]
  },
  {
   "cell_type": "code",
   "execution_count": null,
   "metadata": {},
   "outputs": [],
   "source": []
  },
  {
   "cell_type": "code",
   "execution_count": 50,
   "metadata": {},
   "outputs": [],
   "source": [
    "coordinates_purified = []\n",
    "\n",
    "for i in np.arange(coordinates.shape[0]):\n",
    "    if i not in rasstrel:\n",
    "        coordinates_purified.append(coordinates[i])"
   ]
  },
  {
   "cell_type": "code",
   "execution_count": 51,
   "metadata": {},
   "outputs": [
    {
     "data": {
      "text/plain": [
       "array([[  40.7177164 ,  -73.99183542],\n",
       "       [  33.44943805, -112.00213969],\n",
       "       [  33.44638027, -111.90188756],\n",
       "       ...,\n",
       "       [ -37.8229826 ,  145.1811902 ],\n",
       "       [ -41.2924945 ,  174.7732353 ],\n",
       "       [ -45.0311622 ,  168.6626435 ]])"
      ]
     },
     "execution_count": 51,
     "metadata": {},
     "output_type": "execute_result"
    }
   ],
   "source": [
    "coordinates"
   ]
  },
  {
   "cell_type": "code",
   "execution_count": 57,
   "metadata": {},
   "outputs": [
    {
     "data": {
      "text/plain": [
       "array([[  40.7177164 ,  -73.99183542],\n",
       "       [  33.44943805, -112.00213969],\n",
       "       [  33.44638027, -111.90188756],\n",
       "       ...,\n",
       "       [ -37.7133771 ,  145.1489162 ],\n",
       "       [ -37.8229826 ,  145.1811902 ],\n",
       "       [ -45.0311622 ,  168.6626435 ]])"
      ]
     },
     "execution_count": 57,
     "metadata": {},
     "output_type": "execute_result"
    }
   ],
   "source": [
    "coordinates_purified = np.stack(coordinates_purified)\n",
    "coordinates_purified"
   ]
  },
  {
   "cell_type": "code",
   "execution_count": null,
   "metadata": {},
   "outputs": [],
   "source": [
    "def get_dist(coordinates_purified, offices): #не надо говорить, до какого офиса дистанция \n",
    "\n",
    "dist = []\n",
    "    for elem1 in coordinates_purified:\n",
    "        d_temp = []\n",
    "        for elem2 in offices:\n",
    "            dist2 = (elem1[0] - elem1[0]) ** 2 + (elem1[1] - elem1[1]) ** 2 #?\n",
    "            d_temp.append(dist2)\n",
    "        dist.append(np.min)    \n",
    "        \n",
    "            \n",
    "            \n",
    "            "
   ]
  },
  {
   "cell_type": "code",
   "execution_count": null,
   "metadata": {},
   "outputs": [],
   "source": []
  },
  {
   "cell_type": "code",
   "execution_count": null,
   "metadata": {},
   "outputs": [],
   "source": []
  }
 ],
 "metadata": {
  "kernelspec": {
   "display_name": "Python 3",
   "language": "python",
   "name": "python3"
  },
  "language_info": {
   "codemirror_mode": {
    "name": "ipython",
    "version": 3
   },
   "file_extension": ".py",
   "mimetype": "text/x-python",
   "name": "python",
   "nbconvert_exporter": "python",
   "pygments_lexer": "ipython3",
   "version": "3.7.3"
  }
 },
 "nbformat": 4,
 "nbformat_minor": 2
}
