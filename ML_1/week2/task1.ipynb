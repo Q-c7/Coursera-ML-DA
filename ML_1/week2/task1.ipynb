{
 "cells": [
  {
   "cell_type": "code",
   "execution_count": 1,
   "metadata": {},
   "outputs": [],
   "source": [
    "import re\n",
    "import numpy as np\n",
    "import scipy.spatial.distance\n",
    "\n",
    "#открытие файла для чтения с помощью встроенной функции open\n",
    "file_obj = open('sentences.txt', 'r')\n",
    "\n",
    "dickt = dict()\n",
    "counter = 0\n",
    "numstring = 0\n",
    "\n",
    "str0 = file_obj.readline().lower()\n",
    "while str0 != '':\n",
    "    #lower\n",
    "    numstring += 1\n",
    "    arr0 = re.split('[^a-z]', str0)\n",
    "    while '' in arr0:\n",
    "        arr0.remove('')\n",
    "\n",
    "    for word in arr0:\n",
    "        if word not in dickt.keys():\n",
    "            dickt[word] = counter\n",
    "            counter += 1\n",
    "    str0 = file_obj.readline().lower()\n",
    "\n",
    "file_obj.close()\n",
    "\n",
    "num = len(dickt)"
   ]
  },
  {
   "cell_type": "code",
   "execution_count": 2,
   "metadata": {},
   "outputs": [
    {
     "name": "stdout",
     "output_type": "stream",
     "text": [
      "(22L, 254L)\n"
     ]
    }
   ],
   "source": [
    "all_words =  np.zeros((numstring, num))\n",
    "print all_words.shape"
   ]
  },
  {
   "cell_type": "code",
   "execution_count": 3,
   "metadata": {},
   "outputs": [],
   "source": [
    "file_obj = open('sentences.txt', 'r')\n",
    "#all_words =  np.zeros((numstring, num))\n",
    "\n",
    "curstring = -1\n",
    "\n",
    "str0 = file_obj.readline().lower()\n",
    "while str0 != '':\n",
    "    curstring += 1\n",
    "    arr0 = re.split('[^a-z]', str0)\n",
    "    while '' in arr0:\n",
    "        arr0.remove('')\n",
    "    \n",
    "    for word in arr0:\n",
    "        all_words[curstring][dickt[word]] += 1\n",
    "    str0 = file_obj.readline().lower()\n",
    "\n"
   ]
  },
  {
   "cell_type": "code",
   "execution_count": 4,
   "metadata": {},
   "outputs": [],
   "source": [
    "ans = np.zeros(numstring)\n",
    "ans[0] = 2\n",
    "\n",
    "for i in range(numstring):\n",
    "    if (i == 0):\n",
    "        continue\n",
    "    ans[i] = scipy.spatial.distance.cosine(all_words[0], all_words[i])\n",
    "\n",
    "file_obj2 = open('submission1.txt', 'w')\n",
    "\n",
    "t = ans.argmin()\n",
    "ans[t] = 2\n",
    "t1 = ans.argmin()\n",
    "\n",
    "string = str(t) + ' ' + str(t1) \n",
    "file_obj2.write(string)\n",
    "\n",
    "file_obj2.close()\n",
    "\n"
   ]
  },
  {
   "cell_type": "code",
   "execution_count": 5,
   "metadata": {},
   "outputs": [
    {
     "name": "stdout",
     "output_type": "stream",
     "text": [
      "6 4\n"
     ]
    }
   ],
   "source": [
    "print string"
   ]
  },
  {
   "cell_type": "code",
   "execution_count": null,
   "metadata": {},
   "outputs": [],
   "source": []
  },
  {
   "cell_type": "code",
   "execution_count": null,
   "metadata": {},
   "outputs": [],
   "source": []
  }
 ],
 "metadata": {
  "kernelspec": {
   "display_name": "Python 3",
   "language": "python",
   "name": "python3"
  },
  "language_info": {
   "codemirror_mode": {
    "name": "ipython",
    "version": 3
   },
   "file_extension": ".py",
   "mimetype": "text/x-python",
   "name": "python",
   "nbconvert_exporter": "python",
   "pygments_lexer": "ipython3",
   "version": "3.7.3"
  }
 },
 "nbformat": 4,
 "nbformat_minor": 1
}
