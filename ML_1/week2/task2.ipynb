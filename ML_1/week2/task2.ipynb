{
 "cells": [
  {
   "cell_type": "code",
   "execution_count": 1,
   "metadata": {},
   "outputs": [],
   "source": [
    "import numpy as np\n",
    "import math\n",
    "import scipy\n",
    "from matplotlib import pylab as plt\n",
    "from scipy import optimize\n",
    "from scipy import linalg\n",
    "\n",
    "def f(x):\n",
    "    return math.sin(x / 5.) * math.exp(x / 10.) + 5 * math.exp(-x / 2.)"
   ]
  },
  {
   "cell_type": "code",
   "execution_count": 2,
   "metadata": {},
   "outputs": [
    {
     "name": "stdout",
     "output_type": "stream",
     "text": [
      "[ 3.43914511 -0.18692825]\n",
      "[ 3.32512949 -0.06531159 -0.00760104]\n",
      "[ 4.36264154 -1.29552587  0.19333685 -0.00823565]\n"
     ]
    }
   ],
   "source": [
    "b1 = np.array([f(1), f(15)])\n",
    "A1 = np.array([[1, 1],[1, 15]])\n",
    "\n",
    "sol1 = scipy.linalg.solve(A1, b1)\n",
    "\n",
    "print sol1\n",
    "\n",
    "b2 = np.array([f(1), f(8), f(15)])\n",
    "A2 = np.array([[1, 1, 1],[1, 8, 8 ** 2],[1, 15, 15 ** 2]])\n",
    "\n",
    "sol2 = scipy.linalg.solve(A2, b2)\n",
    "\n",
    "print sol2\n",
    "\n",
    "b3 = np.array([f(1), f(4), f(10), f(15)])\n",
    "A3 = np.array([[1, 1, 1, 1],[1, 4, 4 ** 2, 4 ** 3],[1, 10, 10 ** 2, 10 ** 3],[1, 15, 15 ** 2, 15 ** 3]])\n",
    "\n",
    "sol3 = scipy.linalg.solve(A3, b3)\n",
    "\n",
    "print sol3"
   ]
  },
  {
   "cell_type": "code",
   "execution_count": 3,
   "metadata": {},
   "outputs": [
    {
     "data": {
      "image/png": "[encoded data removed]",
      "text/plain": [
       "<Figure size 432x288 with 1 Axes>"
      ]
     },
     "metadata": {
      "needs_background": "light"
     },
     "output_type": "display_data"
    }
   ],
   "source": [
    "x = np.arange(15.0)\n",
    "y0 = np.zeros(15)\n",
    "y1 = np.zeros(15)\n",
    "y2 = np.zeros(15)\n",
    "y3 = np.zeros(15)\n",
    "for i in np.arange(15):\n",
    "    y0[i] = f(x[i]) \n",
    "for i in np.arange(15):\n",
    "    y1[i] = sol1[0] + sol1[1] * x[i]\n",
    "for i in np.arange(15):\n",
    "    y2[i] = sol2[0] + sol2[1] * x[i] + sol2[2] * x[i] * x[i]\n",
    "for i in np.arange(15):\n",
    "    y3[i] = sol3[0] + sol3[1] * x[i] + sol3[2] * x[i] * x[i] + sol3[3] * (x[i] ** 3)\n",
    "\n",
    "plt.plot(x, y0)\n",
    "plt.plot(x, y1)\n",
    "plt.plot(x, y2)\n",
    "plt.plot(x, y3)\n",
    "plt.show()"
   ]
  },
  {
   "cell_type": "code",
   "execution_count": 4,
   "metadata": {},
   "outputs": [],
   "source": [
    "file_obj2 = open('submission22.txt', 'w')\n",
    "\n",
    "#string = str(round(sol3[0],2)) + ' ' + str(round(sol3[1],2)) + ' ' + str(round(sol3[2],2)) + ' ' + str(round(sol3[3],2))\n",
    "string = str(sol3[0]) + ' ' + str(sol3[1]) + ' ' + str(sol3[2]) + ' ' + str(sol3[3])\n",
    "file_obj2.write(string)\n",
    "\n",
    "file_obj2.close()"
   ]
  },
  {
   "cell_type": "code",
   "execution_count": null,
   "metadata": {},
   "outputs": [],
   "source": []
  },
  {
   "cell_type": "code",
   "execution_count": null,
   "metadata": {},
   "outputs": [],
   "source": []
  },
  {
   "cell_type": "code",
   "execution_count": null,
   "metadata": {},
   "outputs": [],
   "source": []
  },
  {
   "cell_type": "code",
   "execution_count": null,
   "metadata": {},
   "outputs": [],
   "source": []
  }
 ],
 "metadata": {
  "kernelspec": {
   "display_name": "Python 3",
   "language": "python",
   "name": "python3"
  },
  "language_info": {
   "codemirror_mode": {
    "name": "ipython",
    "version": 3
   },
   "file_extension": ".py",
   "mimetype": "text/x-python",
   "name": "python",
   "nbconvert_exporter": "python",
   "pygments_lexer": "ipython3",
   "version": "3.7.3"
  }
 },
 "nbformat": 4,
 "nbformat_minor": 1
}
